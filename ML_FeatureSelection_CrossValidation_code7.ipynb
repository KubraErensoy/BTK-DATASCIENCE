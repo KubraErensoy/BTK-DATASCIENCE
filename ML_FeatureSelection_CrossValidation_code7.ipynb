{
  "nbformat": 4,
  "nbformat_minor": 0,
  "metadata": {
    "colab": {
      "name": "ML_FeatureSelection-CrossValidation_code7.ipynb",
      "provenance": [],
      "authorship_tag": "ABX9TyN1vY4ypP1k0C3jLGlz94pf",
      "include_colab_link": true
    },
    "kernelspec": {
      "name": "python3",
      "display_name": "Python 3"
    },
    "language_info": {
      "name": "python"
    }
  },
  "cells": [
    {
      "cell_type": "markdown",
      "metadata": {
        "id": "view-in-github",
        "colab_type": "text"
      },
      "source": [
        "<a href=\"https://colab.research.google.com/github/KubraErensoy/BTK-DATASCIENCE/blob/main/ML_FeatureSelection_CrossValidation_code7.ipynb\" target=\"_parent\"><img src=\"https://colab.research.google.com/assets/colab-badge.svg\" alt=\"Open In Colab\"/></a>"
      ]
    },
    {
      "cell_type": "code",
      "execution_count": 1,
      "metadata": {
        "colab": {
          "base_uri": "https://localhost:8080/"
        },
        "id": "bbo_s4P5s3RY",
        "outputId": "a96ea8d1-6ef6-49e9-b3b0-f7eb3aee6a65"
      },
      "outputs": [
        {
          "output_type": "execute_result",
          "data": {
            "text/plain": [
              "[[0, 0, 1], [0, 1, 0], [1, 0, 0], [0, 1, 1], [0, 1, 0], [0, 1, 1]]"
            ]
          },
          "metadata": {},
          "execution_count": 1
        }
      ],
      "source": [
        "# Variance-based feature selection\n",
        "from sklearn.feature_selection import VarianceThreshold\n",
        "\n",
        "x = [[0,0,1],[0,1,0],[1,0,0],[0,1,1],[0,1,0],[0,1,1]]\n",
        "x"
      ]
    },
    {
      "cell_type": "code",
      "source": [
        "sel = VarianceThreshold(threshold=0.8*(1-0.8)) # var(x)=p(1-p)\n",
        "sel.fit_transform(x)\n",
        "\n",
        "#ilk sutunun elenmesini bekliyoruz\n",
        "#zira orada 0 değeri olma olasılığı 5/6 >0.8"
      ],
      "metadata": {
        "colab": {
          "base_uri": "https://localhost:8080/"
        },
        "id": "7MHKZFsSs5jS",
        "outputId": "1006093a-03d8-4b53-ef0f-e37ed4d61ced"
      },
      "execution_count": 2,
      "outputs": [
        {
          "output_type": "execute_result",
          "data": {
            "text/plain": [
              "array([[0, 1],\n",
              "       [1, 0],\n",
              "       [0, 0],\n",
              "       [1, 1],\n",
              "       [1, 0],\n",
              "       [1, 1]])"
            ]
          },
          "metadata": {},
          "execution_count": 2
        }
      ]
    },
    {
      "cell_type": "code",
      "source": [
        "#İstatiksel Model Seçimi\n",
        "from sklearn.datasets import load_iris\n",
        "from sklearn.feature_selection import SelectKBest\n",
        "from sklearn.feature_selection import chi2\n",
        "X, y = load_iris(return_X_y=True)\n",
        "X.shape"
      ],
      "metadata": {
        "colab": {
          "base_uri": "https://localhost:8080/"
        },
        "id": "Hj5Q-n34s7tU",
        "outputId": "d2adae97-9a38-4566-e38b-b985451fa19d"
      },
      "execution_count": 3,
      "outputs": [
        {
          "output_type": "execute_result",
          "data": {
            "text/plain": [
              "(150, 4)"
            ]
          },
          "metadata": {},
          "execution_count": 3
        }
      ]
    },
    {
      "cell_type": "code",
      "source": [
        "X_new = SelectKBest(chi2, k=2).fit_transform(X, y)\n",
        "X_new.shape"
      ],
      "metadata": {
        "colab": {
          "base_uri": "https://localhost:8080/"
        },
        "id": "ZVK22aJytU2g",
        "outputId": "97628ec2-b19f-4c6f-bdc5-c5679d02c3a6"
      },
      "execution_count": 4,
      "outputs": [
        {
          "output_type": "execute_result",
          "data": {
            "text/plain": [
              "(150, 2)"
            ]
          },
          "metadata": {},
          "execution_count": 4
        }
      ]
    },
    {
      "cell_type": "code",
      "source": [
        "#Model Temelli Öznitelik Seçimi\n",
        "from sklearn.svm import LinearSVC\n",
        "from sklearn.datasets import load_iris\n",
        "from sklearn.feature_selection import SelectFromModel\n",
        "X, y = load_iris(return_X_y=True)\n",
        "X.shape"
      ],
      "metadata": {
        "colab": {
          "base_uri": "https://localhost:8080/"
        },
        "id": "g1IHY7_2tAj-",
        "outputId": "2839ffdf-cc2d-4d79-bef5-3a8428183260"
      },
      "execution_count": 5,
      "outputs": [
        {
          "output_type": "execute_result",
          "data": {
            "text/plain": [
              "(150, 4)"
            ]
          },
          "metadata": {},
          "execution_count": 5
        }
      ]
    },
    {
      "cell_type": "code",
      "source": [
        "# L1 normu temelli öznitelik seçimi\n",
        "lsvc = LinearSVC(C=0.01, penalty=\"l1\", dual=False).fit(X, y)\n",
        "model = SelectFromModel(lsvc, prefit=True)\n",
        "X_new = model.transform(X)\n",
        "X_new.shape"
      ],
      "metadata": {
        "colab": {
          "base_uri": "https://localhost:8080/"
        },
        "id": "jBrFV9KBtDx5",
        "outputId": "37ccbe24-ece8-413c-9aac-e384e89019ee"
      },
      "execution_count": 6,
      "outputs": [
        {
          "output_type": "execute_result",
          "data": {
            "text/plain": [
              "(150, 3)"
            ]
          },
          "metadata": {},
          "execution_count": 6
        }
      ]
    },
    {
      "cell_type": "code",
      "source": [
        "# L2 normu temelli öznitelik seçimi\n",
        "lsvc = LinearSVC(C=0.01, penalty=\"l2\", dual=False).fit(X, y)\n",
        "model = SelectFromModel(lsvc, prefit=True)\n",
        "X_new = model.transform(X)\n",
        "X_new.shape"
      ],
      "metadata": {
        "colab": {
          "base_uri": "https://localhost:8080/"
        },
        "id": "I0UJn6DktGxL",
        "outputId": "b73e2657-4fb9-4dd1-e3cd-0d81cac9af2e"
      },
      "execution_count": 7,
      "outputs": [
        {
          "output_type": "execute_result",
          "data": {
            "text/plain": [
              "(150, 2)"
            ]
          },
          "metadata": {},
          "execution_count": 7
        }
      ]
    },
    {
      "cell_type": "code",
      "source": [
        "#Ağaç Temelli Öznitelik Seçimi\n",
        "from sklearn.ensemble import ExtraTreesClassifier\n",
        "from sklearn.datasets import load_iris\n",
        "from sklearn.feature_selection import SelectFromModel\n",
        "X, y = load_iris(return_X_y=True)\n",
        "X.shape"
      ],
      "metadata": {
        "colab": {
          "base_uri": "https://localhost:8080/"
        },
        "id": "m2Uv79ett5_x",
        "outputId": "cf9e6e76-ddf4-490a-a8ad-6381270150e0"
      },
      "execution_count": 8,
      "outputs": [
        {
          "output_type": "execute_result",
          "data": {
            "text/plain": [
              "(150, 4)"
            ]
          },
          "metadata": {},
          "execution_count": 8
        }
      ]
    },
    {
      "cell_type": "code",
      "source": [
        "clf = ExtraTreesClassifier(n_estimators=50)#50 farklı ağaç oluşturur\n",
        "clf = clf.fit(X, y)\n",
        "clf.feature_importances_  "
      ],
      "metadata": {
        "colab": {
          "base_uri": "https://localhost:8080/"
        },
        "id": "brTuWNUquGXF",
        "outputId": "be6861aa-de22-4498-bf19-5a9e46528517"
      },
      "execution_count": 9,
      "outputs": [
        {
          "output_type": "execute_result",
          "data": {
            "text/plain": [
              "array([0.09213755, 0.06066222, 0.41251365, 0.43468657])"
            ]
          },
          "metadata": {},
          "execution_count": 9
        }
      ]
    },
    {
      "cell_type": "code",
      "source": [
        "model = SelectFromModel(clf, prefit=True)\n",
        "X_new = model.transform(X)\n",
        "X_new.shape   "
      ],
      "metadata": {
        "colab": {
          "base_uri": "https://localhost:8080/"
        },
        "id": "u3ld3mE8uVTF",
        "outputId": "dd032425-2f58-4dca-86b3-c0a0600c3b9e"
      },
      "execution_count": 10,
      "outputs": [
        {
          "output_type": "execute_result",
          "data": {
            "text/plain": [
              "(150, 2)"
            ]
          },
          "metadata": {},
          "execution_count": 10
        }
      ]
    },
    {
      "cell_type": "markdown",
      "source": [
        "**MODEL SELECTION**\n"
      ],
      "metadata": {
        "id": "ufW91NpqurzI"
      }
    },
    {
      "cell_type": "code",
      "source": [
        "import pandas as pd\n",
        "import matplotlib.pyplot as plt \n",
        "import numpy as np \n",
        "import seaborn as sns\n",
        "\n",
        "from sklearn.datasets import load_iris"
      ],
      "metadata": {
        "id": "IdZvo6PnwO2D"
      },
      "execution_count": 11,
      "outputs": []
    },
    {
      "cell_type": "code",
      "source": [
        "iris = load_iris()\n",
        "\n",
        "x = iris.data\n",
        "y= iris.target"
      ],
      "metadata": {
        "id": "yy9QhIxmwXDR"
      },
      "execution_count": 12,
      "outputs": []
    },
    {
      "cell_type": "code",
      "source": [
        "#normalizasyon\n",
        "x =(x - np.min(x)) / (np.max(x) - np.min(x))"
      ],
      "metadata": {
        "id": "hr-joJirwai5"
      },
      "execution_count": 13,
      "outputs": []
    },
    {
      "cell_type": "code",
      "source": [
        "#eğitim test bölünmesi\n",
        "from sklearn.model_selection import train_test_split\n",
        "x_train, x_test, y_train, y_test = train_test_split(x,y,test_size=0.30)"
      ],
      "metadata": {
        "id": "hjeZjWE3weMN"
      },
      "execution_count": 14,
      "outputs": []
    },
    {
      "cell_type": "markdown",
      "source": [
        "**1- Model Training with Cross Validation(Çapraz Doğrulama)**\n",
        "\n",
        "  - Çapraz doğrulamada kullanacağımız makine öğrenmesi modelinde K-en komşu modelini seçiyoruz.\n"
      ],
      "metadata": {
        "id": "A1QnRnX-v4yF"
      }
    },
    {
      "cell_type": "code",
      "source": [
        "#3 En yakın komşu \n",
        "from sklearn.neighbors import KNeighborsClassifier\n",
        "knn = KNeighborsClassifier(n_neighbors=3) # k=n_neighbours\n",
        "knn"
      ],
      "metadata": {
        "colab": {
          "base_uri": "https://localhost:8080/"
        },
        "id": "03rgDuG5xTUX",
        "outputId": "98aa7b71-e71f-49a9-8926-233ec052504e"
      },
      "execution_count": 15,
      "outputs": [
        {
          "output_type": "execute_result",
          "data": {
            "text/plain": [
              "KNeighborsClassifier(n_neighbors=3)"
            ]
          },
          "metadata": {},
          "execution_count": 15
        }
      ]
    },
    {
      "cell_type": "code",
      "source": [
        "#10 fold çapraz doğrulama yapalım\n",
        "from sklearn.model_selection import cross_val_score\n",
        "fold_sayisi = 10\n",
        "dogruluklar = cross_val_score(estimator=knn, X = x_train,y=y_train,cv=fold_sayisi)\n",
        "print(\"Ortalama Doğruluk: \",np.mean(dogruluklar))\n",
        "print(\"Doğrulukların Standart Sapması \",np.std(dogruluklar))"
      ],
      "metadata": {
        "colab": {
          "base_uri": "https://localhost:8080/"
        },
        "id": "M9UDEBZjxbat",
        "outputId": "2c739e7b-b761-4c73-85f8-50563ec91bc0"
      },
      "execution_count": 19,
      "outputs": [
        {
          "output_type": "stream",
          "name": "stdout",
          "text": [
            "Ortalama Doğruluk:  0.9172727272727272\n",
            "Doğrulukların Standart Sapması  0.0859030781926655\n"
          ]
        }
      ]
    },
    {
      "cell_type": "markdown",
      "source": [
        "**Model Selection**"
      ],
      "metadata": {
        "id": "hmHLMI0VwJcL"
      }
    },
    {
      "cell_type": "code",
      "source": [
        "import pandas as pd\n",
        "import matplotlib.pyplot as plt \n",
        "import numpy as np \n",
        "import seaborn as sns\n",
        "\n",
        "from sklearn.datasets import load_iris"
      ],
      "metadata": {
        "id": "mEwcCcVWyA50"
      },
      "execution_count": 20,
      "outputs": []
    },
    {
      "cell_type": "code",
      "source": [
        "#veri yükle\n",
        "iris = load_iris()\n",
        "\n",
        "x = iris.data #özellikler\n",
        "y= iris.target #sınıf"
      ],
      "metadata": {
        "id": "sCzC7wUFyE0Q"
      },
      "execution_count": 22,
      "outputs": []
    },
    {
      "cell_type": "code",
      "source": [
        "#normalizasyon\n",
        "x =(x - np.min(x)) / (np.max(x) - np.min(x))\n"
      ],
      "metadata": {
        "id": "4B2GSkzSyy8K"
      },
      "execution_count": 26,
      "outputs": []
    },
    {
      "cell_type": "code",
      "source": [
        "\n",
        "from sklearn.model_selection import train_test_split\n",
        "x_train, x_test, y_train, y_test = train_test_split(x,y,test_size=0.30)"
      ],
      "metadata": {
        "id": "bafuOXILy31g"
      },
      "execution_count": 27,
      "outputs": []
    },
    {
      "cell_type": "markdown",
      "source": [
        "**2-Grid Search Cross Validation (Izgara Araması Çapraz Doğrulama Uygulama)**\n",
        "\n"
      ],
      "metadata": {
        "id": "RG0frMM3zFX_"
      }
    },
    {
      "cell_type": "code",
      "source": [
        "from sklearn.neighbors import KNeighborsClassifier\n",
        "knn = KNeighborsClassifier(n_neighbors=3) # k=n_neighbours"
      ],
      "metadata": {
        "id": "FWl1vHN6zD3n"
      },
      "execution_count": 29,
      "outputs": []
    },
    {
      "cell_type": "code",
      "source": [
        "from sklearn.model_selection import GridSearchCV\n",
        "\n",
        "grid = {\"n_neighbors\":np.arange(1,50)}\n",
        "knn = KNeighborsClassifier()\n",
        "\n",
        "knn_cv = GridSearchCV(knn,grid,cv=10) # GridSerachCV\n",
        "knn_cv.fit(x,y)"
      ],
      "metadata": {
        "colab": {
          "base_uri": "https://localhost:8080/"
        },
        "id": "gQj1eugtzd7V",
        "outputId": "1e994b38-f5d6-4e1f-ce05-b6337d5db294"
      },
      "execution_count": 30,
      "outputs": [
        {
          "output_type": "execute_result",
          "data": {
            "text/plain": [
              "GridSearchCV(cv=10, estimator=KNeighborsClassifier(),\n",
              "             param_grid={'n_neighbors': array([ 1,  2,  3,  4,  5,  6,  7,  8,  9, 10, 11, 12, 13, 14, 15, 16, 17,\n",
              "       18, 19, 20, 21, 22, 23, 24, 25, 26, 27, 28, 29, 30, 31, 32, 33, 34,\n",
              "       35, 36, 37, 38, 39, 40, 41, 42, 43, 44, 45, 46, 47, 48, 49])})"
            ]
          },
          "metadata": {},
          "execution_count": 30
        }
      ]
    },
    {
      "cell_type": "code",
      "source": [
        "print(\"En iyi K Değeri: \",knn_cv.best_params_)\n",
        "print(\"En iyi K Değerine Göre Doğruluk Değeri\",knn_cv.best_score_)"
      ],
      "metadata": {
        "colab": {
          "base_uri": "https://localhost:8080/"
        },
        "id": "sBoLSbf2ztls",
        "outputId": "ef08e51c-a1c0-47c6-c018-fd315d392e79"
      },
      "execution_count": 31,
      "outputs": [
        {
          "output_type": "stream",
          "name": "stdout",
          "text": [
            "En iyi K Değeri:  {'n_neighbors': 13}\n",
            "En iyi K Değerine Göre Doğruluk Değeri 0.9800000000000001\n"
          ]
        }
      ]
    },
    {
      "cell_type": "code",
      "source": [
        "from sklearn.linear_model import LogisticRegression\n",
        "import warnings\n",
        "warnings.filterwarnings(\"ignore\")\n",
        "\n",
        "grid = {\"C\":np.logspace(-3,3,7),\"penalty\":[\"l1\",\"l2\"]} #L1=Lasso ve L2=ridge\n",
        "\n",
        "logreg = LogisticRegression()\n",
        "logreg_cv = GridSearchCV(logreg,grid,cv=10)\n",
        "logreg_cv.fit(x,y)\n",
        "\n",
        "\n",
        "print(\"En iyi Hiper Parametre\",logreg_cv.best_params_)\n",
        "print(\"En iyi Hiper Parametreye Göre Doğruluk\",logreg_cv.best_score_)"
      ],
      "metadata": {
        "colab": {
          "base_uri": "https://localhost:8080/"
        },
        "id": "cACLEduvz3Oh",
        "outputId": "4a086966-3538-4bbf-fe35-44a83377a711"
      },
      "execution_count": 33,
      "outputs": [
        {
          "output_type": "stream",
          "name": "stdout",
          "text": [
            "En iyi Hiper Parametre {'C': 1000.0, 'penalty': 'l2'}\n",
            "En iyi Hiper Parametreye Göre Doğruluk 0.9800000000000001\n"
          ]
        }
      ]
    }
  ]
}